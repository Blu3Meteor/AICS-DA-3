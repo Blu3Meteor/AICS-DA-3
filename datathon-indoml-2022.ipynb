{
 "cells": [
  {
   "cell_type": "markdown",
   "id": "5dbe6cda",
   "metadata": {
    "papermill": {
     "duration": 0.002922,
     "end_time": "2022-11-19T08:16:04.070591",
     "exception": false,
     "start_time": "2022-11-19T08:16:04.067669",
     "status": "completed"
    },
    "tags": []
   },
   "source": [
    "# CNN Model For Image Classification\n",
    "***********************************\n",
    "\n",
    "## The Model\n",
    "The model has a simple architecture, similar to LeNet, owing to the similarity of the task to be performed.\n",
    "\n",
    "We maintain two lists, train_x and train_y. \n",
    "\n",
    "We fetch the names of the files from the 'training_labels.csv' file. For each row in the csv file, we fetch the name of the file and the label associated with it. \n",
    "\n",
    "The image file is fetched using its name from the input folder.\n",
    "\n",
    "Since the sizes of the images in the training folder are not same, we resize them to a common dimension of 600x1000\n",
    "\n",
    "This image is then converted to a numpy array, normalised by dividing it by 255, and its dimensions are expanded by adding a third dimension, the number of color channels, which is set to 1.\n",
    "\n",
    "This array is then appended to the train_x list.\n",
    "\n",
    "We one hot encode the label manually. A temporary list with 16 0s is initialised and the index of the list which is equal to the label is made 1. This array is appended to test_y.\n",
    "\n",
    "Finally the lists are converted to numpy array and returned from the load data function.\n",
    "\n",
    "For the testing set, the images were taken from the folder and then preprocesses in the same way as the training instances were. The predicted class was stored in a list and later converted to numoy array and then to a dataframe.\n",
    "\n"
   ]
  },
  {
   "cell_type": "code",
   "execution_count": 1,
   "id": "d9e6ae21",
   "metadata": {
    "execution": {
     "iopub.execute_input": "2022-11-19T08:16:04.076863Z",
     "iopub.status.busy": "2022-11-19T08:16:04.076307Z",
     "iopub.status.idle": "2022-11-19T08:16:14.525672Z",
     "shell.execute_reply": "2022-11-19T08:16:14.523558Z"
    },
    "papermill": {
     "duration": 10.455535,
     "end_time": "2022-11-19T08:16:14.528199",
     "exception": false,
     "start_time": "2022-11-19T08:16:04.072664",
     "status": "completed"
    },
    "tags": []
   },
   "outputs": [
    {
     "name": "stdout",
     "output_type": "stream",
     "text": [
      "Sat Nov 19 08:16:11 2022       \r\n",
      "+-----------------------------------------------------------------------------+\r\n",
      "| NVIDIA-SMI 470.82.01    Driver Version: 470.82.01    CUDA Version: 11.4     |\r\n",
      "|-------------------------------+----------------------+----------------------+\r\n",
      "| GPU  Name        Persistence-M| Bus-Id        Disp.A | Volatile Uncorr. ECC |\r\n",
      "| Fan  Temp  Perf  Pwr:Usage/Cap|         Memory-Usage | GPU-Util  Compute M. |\r\n",
      "|                               |                      |               MIG M. |\r\n",
      "|===============================+======================+======================|\r\n",
      "|   0  Tesla P100-PCIE...  Off  | 00000000:00:04.0 Off |                    0 |\r\n",
      "| N/A   36C    P0    25W / 250W |      0MiB / 16280MiB |      0%      Default |\r\n",
      "|                               |                      |                  N/A |\r\n",
      "+-------------------------------+----------------------+----------------------+\r\n",
      "                                                                               \r\n",
      "+-----------------------------------------------------------------------------+\r\n",
      "| Processes:                                                                  |\r\n",
      "|  GPU   GI   CI        PID   Type   Process name                  GPU Memory |\r\n",
      "|        ID   ID                                                   Usage      |\r\n",
      "|=============================================================================|\r\n",
      "|  No running processes found                                                 |\r\n",
      "+-----------------------------------------------------------------------------+\r\n"
     ]
    },
    {
     "name": "stderr",
     "output_type": "stream",
     "text": [
      "2022-11-19 08:16:11.754446: I tensorflow/stream_executor/cuda/cuda_gpu_executor.cc:937] successful NUMA node read from SysFS had negative value (-1), but there must be at least one NUMA node, so returning NUMA node zero\n",
      "2022-11-19 08:16:11.850841: I tensorflow/stream_executor/cuda/cuda_gpu_executor.cc:937] successful NUMA node read from SysFS had negative value (-1), but there must be at least one NUMA node, so returning NUMA node zero\n",
      "2022-11-19 08:16:11.851669: I tensorflow/stream_executor/cuda/cuda_gpu_executor.cc:937] successful NUMA node read from SysFS had negative value (-1), but there must be at least one NUMA node, so returning NUMA node zero\n",
      "2022-11-19 08:16:11.853705: I tensorflow/core/platform/cpu_feature_guard.cc:142] This TensorFlow binary is optimized with oneAPI Deep Neural Network Library (oneDNN) to use the following CPU instructions in performance-critical operations:  AVX2 AVX512F FMA\n",
      "To enable them in other operations, rebuild TensorFlow with the appropriate compiler flags.\n",
      "2022-11-19 08:16:11.854065: I tensorflow/stream_executor/cuda/cuda_gpu_executor.cc:937] successful NUMA node read from SysFS had negative value (-1), but there must be at least one NUMA node, so returning NUMA node zero\n",
      "2022-11-19 08:16:11.854795: I tensorflow/stream_executor/cuda/cuda_gpu_executor.cc:937] successful NUMA node read from SysFS had negative value (-1), but there must be at least one NUMA node, so returning NUMA node zero\n",
      "2022-11-19 08:16:11.855442: I tensorflow/stream_executor/cuda/cuda_gpu_executor.cc:937] successful NUMA node read from SysFS had negative value (-1), but there must be at least one NUMA node, so returning NUMA node zero\n",
      "2022-11-19 08:16:14.061637: I tensorflow/stream_executor/cuda/cuda_gpu_executor.cc:937] successful NUMA node read from SysFS had negative value (-1), but there must be at least one NUMA node, so returning NUMA node zero\n",
      "2022-11-19 08:16:14.062510: I tensorflow/stream_executor/cuda/cuda_gpu_executor.cc:937] successful NUMA node read from SysFS had negative value (-1), but there must be at least one NUMA node, so returning NUMA node zero\n",
      "2022-11-19 08:16:14.063174: I tensorflow/stream_executor/cuda/cuda_gpu_executor.cc:937] successful NUMA node read from SysFS had negative value (-1), but there must be at least one NUMA node, so returning NUMA node zero\n",
      "2022-11-19 08:16:14.063780: I tensorflow/core/common_runtime/gpu/gpu_device.cc:1510] Created device /job:localhost/replica:0/task:0/device:GPU:0 with 15401 MB memory:  -> device: 0, name: Tesla P100-PCIE-16GB, pci bus id: 0000:00:04.0, compute capability: 6.0\n"
     ]
    },
    {
     "name": "stdout",
     "output_type": "stream",
     "text": [
      "Model: \"sequential\"\n",
      "_________________________________________________________________\n",
      "Layer (type)                 Output Shape              Param #   \n",
      "=================================================================\n",
      "conv2d (Conv2D)              (None, 600, 1000, 16)     416       \n",
      "_________________________________________________________________\n",
      "max_pooling2d (MaxPooling2D) (None, 300, 500, 16)      0         \n",
      "_________________________________________________________________\n",
      "conv2d_1 (Conv2D)            (None, 300, 500, 32)      4640      \n",
      "_________________________________________________________________\n",
      "max_pooling2d_1 (MaxPooling2 (None, 150, 250, 32)      0         \n",
      "_________________________________________________________________\n",
      "conv2d_2 (Conv2D)            (None, 150, 250, 64)      18496     \n",
      "_________________________________________________________________\n",
      "max_pooling2d_2 (MaxPooling2 (None, 75, 125, 64)       0         \n",
      "_________________________________________________________________\n",
      "conv2d_3 (Conv2D)            (None, 75, 125, 128)      73856     \n",
      "_________________________________________________________________\n",
      "max_pooling2d_3 (MaxPooling2 (None, 37, 62, 128)       0         \n",
      "_________________________________________________________________\n",
      "flatten (Flatten)            (None, 293632)            0         \n",
      "_________________________________________________________________\n",
      "dense (Dense)                (None, 100)               29363300  \n",
      "_________________________________________________________________\n",
      "dense_1 (Dense)              (None, 16)                1616      \n",
      "=================================================================\n",
      "Total params: 29,462,324\n",
      "Trainable params: 29,462,324\n",
      "Non-trainable params: 0\n",
      "_________________________________________________________________\n"
     ]
    }
   ],
   "source": [
    "import math, re, os\n",
    "import tensorflow as tf\n",
    "from tensorflow import keras\n",
    "import numpy as np \n",
    "import pandas as pd \n",
    "from PIL import Image\n",
    "import os\n",
    "from tensorflow.keras.layers import Conv2D, MaxPooling2D, AveragePooling2D, Flatten, Dense\n",
    "from tensorflow.keras.models import Sequential\n",
    "from skimage.io import imread\n",
    "from skimage.transform import resize\n",
    "\n",
    "!nvidia-smi\n",
    "\n",
    "def batch_generator(Train_df, batch_size, steps):\n",
    "    idx=1\n",
    "    while True: \n",
    "        yield load_data(Train_df,idx-1,batch_size)\n",
    "        if idx<steps:\n",
    "            idx+=1\n",
    "        else:\n",
    "            idx=1\n",
    "\n",
    "def load_data(Train_df, idx, batch_size):\n",
    "    dirname = '/kaggle/input/datathonindoml-2022/train/train/'\n",
    "    df = pd.read_csv(Train_df, skiprows=idx*batch_size, nrows=batch_size)\n",
    "    df.columns = ['id', 'label']\n",
    "    train_x, train_y = [], []\n",
    "    for label in df['id']:\n",
    "        train_x.append(np.asarray(Image.open(dirname+str(label)+\".tif\").resize((600, 1000))).reshape(600, 1000, 1)/255)\n",
    "        temp = [0]*16\n",
    "        temp[df.loc[df['id'] == label, 'label'].item()] = 1\n",
    "        train_y.append(temp)\n",
    "    train_x = np.array(train_x)\n",
    "    train_y = np.array(train_y)\n",
    "    return (train_x, train_y)\n",
    "\n",
    "batch_size = 64\n",
    "nb_epoch = 12\n",
    "steps_per_epoch=np.ceil(16000/batch_size)\n",
    "\n",
    "model = Sequential()\n",
    "model.add(Conv2D(16, (5,5), padding=\"same\", input_shape=(600, 1000, 1)))\n",
    "model.add(MaxPooling2D())\n",
    "model.add(Conv2D(32, (3,3), padding=\"same\"))\n",
    "model.add(MaxPooling2D())\n",
    "model.add(Conv2D(64, (3,3), padding=\"same\"))\n",
    "model.add(MaxPooling2D())\n",
    "model.add(Conv2D(128, (3,3), padding=\"same\"))\n",
    "model.add(MaxPooling2D())\n",
    "model.add(Flatten())\n",
    "model.add(Dense(100, activation='relu'))\n",
    "model.add(Dense(16, activation='softmax'))\n",
    "\n",
    "model.compile(loss='categorical_crossentropy', optimizer=\"adam\", metrics=[\"accuracy\"])\n",
    "model.summary()\n",
    "\n",
    "model_checkpoint = tf.keras.callbacks.ModelCheckpoint(filepath = './checkpt.h5',monitor='accuracy', mode='max', save_best_only=True)\n",
    "callbacks_list = [model_checkpoint]\n",
    "training_batch_generator = batch_generator('/kaggle/input/datathonindoml-2022/train_labels.csv', batch_size, steps_per_epoch)"
   ]
  },
  {
   "cell_type": "code",
   "execution_count": 2,
   "id": "04acc1b6",
   "metadata": {
    "execution": {
     "iopub.execute_input": "2022-11-19T08:16:14.534537Z",
     "iopub.status.busy": "2022-11-19T08:16:14.533872Z",
     "iopub.status.idle": "2022-11-19T09:04:38.352251Z",
     "shell.execute_reply": "2022-11-19T09:04:38.351297Z"
    },
    "papermill": {
     "duration": 2903.978517,
     "end_time": "2022-11-19T09:04:38.509117",
     "exception": false,
     "start_time": "2022-11-19T08:16:14.530600",
     "status": "completed"
    },
    "tags": []
   },
   "outputs": [
    {
     "name": "stderr",
     "output_type": "stream",
     "text": [
      "/opt/conda/lib/python3.7/site-packages/keras/engine/training.py:1972: UserWarning: `Model.fit_generator` is deprecated and will be removed in a future version. Please use `Model.fit`, which supports generators.\n",
      "  warnings.warn('`Model.fit_generator` is deprecated and '\n",
      "2022-11-19 08:16:15.932490: I tensorflow/compiler/mlir/mlir_graph_optimization_pass.cc:185] None of the MLIR Optimization Passes are enabled (registered 2)\n"
     ]
    },
    {
     "name": "stdout",
     "output_type": "stream",
     "text": [
      "Epoch 1/12\n"
     ]
    },
    {
     "name": "stderr",
     "output_type": "stream",
     "text": [
      "2022-11-19 08:16:17.755435: I tensorflow/stream_executor/cuda/cuda_dnn.cc:369] Loaded cuDNN version 8005\n"
     ]
    },
    {
     "name": "stdout",
     "output_type": "stream",
     "text": [
      "250/250 [==============================] - 315s 1s/step - loss: 3.4969 - accuracy: 0.1645\n",
      "Epoch 2/12\n",
      "250/250 [==============================] - 226s 905ms/step - loss: 2.0523 - accuracy: 0.3553\n",
      "Epoch 3/12\n",
      "250/250 [==============================] - 227s 911ms/step - loss: 1.5540 - accuracy: 0.5093\n",
      "Epoch 4/12\n",
      "250/250 [==============================] - 233s 932ms/step - loss: 1.1328 - accuracy: 0.6439\n",
      "Epoch 5/12\n",
      "250/250 [==============================] - 227s 912ms/step - loss: 0.6851 - accuracy: 0.7918\n",
      "Epoch 6/12\n",
      "250/250 [==============================] - 228s 915ms/step - loss: 0.3717 - accuracy: 0.8844\n",
      "Epoch 7/12\n",
      "250/250 [==============================] - 230s 923ms/step - loss: 0.1942 - accuracy: 0.9415\n",
      "Epoch 8/12\n",
      "250/250 [==============================] - 232s 929ms/step - loss: 0.1167 - accuracy: 0.9651\n",
      "Epoch 9/12\n",
      "250/250 [==============================] - 232s 931ms/step - loss: 0.0671 - accuracy: 0.9792\n",
      "Epoch 10/12\n",
      "250/250 [==============================] - 232s 930ms/step - loss: 0.0389 - accuracy: 0.9896\n",
      "Epoch 11/12\n",
      "250/250 [==============================] - 230s 922ms/step - loss: 0.0299 - accuracy: 0.9911\n",
      "Epoch 12/12\n",
      "250/250 [==============================] - 230s 921ms/step - loss: 0.0280 - accuracy: 0.9927\n"
     ]
    },
    {
     "data": {
      "text/plain": [
       "<keras.callbacks.History at 0x7ff51c54d910>"
      ]
     },
     "execution_count": 2,
     "metadata": {},
     "output_type": "execute_result"
    }
   ],
   "source": [
    "model.fit_generator(training_batch_generator, epochs=nb_epoch,steps_per_epoch=steps_per_epoch, callbacks=callbacks_list, verbose=1)"
   ]
  },
  {
   "cell_type": "code",
   "execution_count": 3,
   "id": "60aa3813",
   "metadata": {
    "execution": {
     "iopub.execute_input": "2022-11-19T09:04:38.821967Z",
     "iopub.status.busy": "2022-11-19T09:04:38.821605Z",
     "iopub.status.idle": "2022-11-19T09:04:39.836718Z",
     "shell.execute_reply": "2022-11-19T09:04:39.835715Z"
    },
    "papermill": {
     "duration": 1.174952,
     "end_time": "2022-11-19T09:04:39.840000",
     "exception": false,
     "start_time": "2022-11-19T09:04:38.665048",
     "status": "completed"
    },
    "tags": []
   },
   "outputs": [
    {
     "name": "stdout",
     "output_type": "stream",
     "text": [
      "Model: \"sequential\"\n",
      "_________________________________________________________________\n",
      "Layer (type)                 Output Shape              Param #   \n",
      "=================================================================\n",
      "conv2d (Conv2D)              (None, 600, 1000, 16)     416       \n",
      "_________________________________________________________________\n",
      "max_pooling2d (MaxPooling2D) (None, 300, 500, 16)      0         \n",
      "_________________________________________________________________\n",
      "conv2d_1 (Conv2D)            (None, 300, 500, 32)      4640      \n",
      "_________________________________________________________________\n",
      "max_pooling2d_1 (MaxPooling2 (None, 150, 250, 32)      0         \n",
      "_________________________________________________________________\n",
      "conv2d_2 (Conv2D)            (None, 150, 250, 64)      18496     \n",
      "_________________________________________________________________\n",
      "max_pooling2d_2 (MaxPooling2 (None, 75, 125, 64)       0         \n",
      "_________________________________________________________________\n",
      "conv2d_3 (Conv2D)            (None, 75, 125, 128)      73856     \n",
      "_________________________________________________________________\n",
      "max_pooling2d_3 (MaxPooling2 (None, 37, 62, 128)       0         \n",
      "_________________________________________________________________\n",
      "flatten (Flatten)            (None, 293632)            0         \n",
      "_________________________________________________________________\n",
      "dense (Dense)                (None, 100)               29363300  \n",
      "_________________________________________________________________\n",
      "dense_1 (Dense)              (None, 16)                1616      \n",
      "=================================================================\n",
      "Total params: 29,462,324\n",
      "Trainable params: 29,462,324\n",
      "Non-trainable params: 0\n",
      "_________________________________________________________________\n"
     ]
    }
   ],
   "source": [
    "from keras.models import load_model\n",
    "model = load_model('./checkpt.h5')\n",
    "model.summary()"
   ]
  },
  {
   "cell_type": "code",
   "execution_count": 4,
   "id": "3ef10d5e",
   "metadata": {
    "execution": {
     "iopub.execute_input": "2022-11-19T09:04:40.202720Z",
     "iopub.status.busy": "2022-11-19T09:04:40.202329Z",
     "iopub.status.idle": "2022-11-19T09:05:31.465371Z",
     "shell.execute_reply": "2022-11-19T09:05:31.464309Z"
    },
    "papermill": {
     "duration": 51.420262,
     "end_time": "2022-11-19T09:05:31.468043",
     "exception": false,
     "start_time": "2022-11-19T09:04:40.047781",
     "status": "completed"
    },
    "tags": []
   },
   "outputs": [],
   "source": [
    "val_dir = '../input/datathonindoml-2022/validation/validation/'\n",
    "results = []\n",
    "for file in os.listdir(val_dir):\n",
    "    image = np.asarray(Image.open(val_dir+file).resize((600, 1000))).reshape(1,600, 1000, 1)/255\n",
    "    id_ = file.split(\".\")[0]\n",
    "    label = np.argmax(model.predict(image) , axis=1)[0]\n",
    "    results.append([id_, label])\n",
    "df = pd.DataFrame(np.array(results), columns = ['id','label'])\n",
    "df.to_csv('./results.csv')"
   ]
  },
  {
   "cell_type": "code",
   "execution_count": null,
   "id": "8c3d0723",
   "metadata": {
    "papermill": {
     "duration": 0.155965,
     "end_time": "2022-11-19T09:05:31.786084",
     "exception": false,
     "start_time": "2022-11-19T09:05:31.630119",
     "status": "completed"
    },
    "tags": []
   },
   "outputs": [],
   "source": []
  }
 ],
 "metadata": {
  "kernelspec": {
   "display_name": "Python 3",
   "language": "python",
   "name": "python3"
  },
  "language_info": {
   "codemirror_mode": {
    "name": "ipython",
    "version": 3
   },
   "file_extension": ".py",
   "mimetype": "text/x-python",
   "name": "python",
   "nbconvert_exporter": "python",
   "pygments_lexer": "ipython3",
   "version": "3.7.12"
  },
  "papermill": {
   "default_parameters": {},
   "duration": 2978.777896,
   "end_time": "2022-11-19T09:05:35.273030",
   "environment_variables": {},
   "exception": null,
   "input_path": "__notebook__.ipynb",
   "output_path": "__notebook__.ipynb",
   "parameters": {},
   "start_time": "2022-11-19T08:15:56.495134",
   "version": "2.3.4"
  }
 },
 "nbformat": 4,
 "nbformat_minor": 5
}
